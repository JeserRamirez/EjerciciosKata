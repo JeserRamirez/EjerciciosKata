{
 "cells": [
  {
   "cell_type": "code",
   "execution_count": null,
   "metadata": {},
   "outputs": [],
   "source": []
  },
  {
   "cell_type": "markdown",
   "metadata": {},
   "source": [
    "# Ejercicio 1\n",
    "Para este ejercicio, escribirás una lógica condicional que imprima una advertencia si un asteroide se acerca a la Tierra demasiado rápido. La velocidad del asteroide varía dependiendo de lo cerca que esté del sol, y cualquier velocidad superior a 25 kilómetros por segundo (km/s) merece una advertencia.\n",
    "\n",
    "Un asteroide se acerca, y viaja a una velocidad de 49 km/s."
   ]
  },
  {
   "cell_type": "code",
   "execution_count": 2,
   "metadata": {},
   "outputs": [
    {
     "name": "stdout",
     "output_type": "stream",
     "text": [
      "Peligro!, un asteroide se acerca a la Tierra.\n"
     ]
    }
   ],
   "source": [
    "velocidadLimite = 25\n",
    "velocidadAsteroide = 49\n",
    "\n",
    "if velocidadAsteroide > velocidadLimite:\n",
    "    print(\"Peligro!, un asteroide se acerca a la Tierra.\")\n",
    "else:\n",
    "    print(\"Fuera de peligro!\")"
   ]
  },
  {
   "cell_type": "markdown",
   "metadata": {},
   "source": [
    "# Ejercicio 2\n",
    "Si un asteroide entra en la atmósfera de la Tierra a una velocidad mayor o igual a 20 km/s, a veces produce un rayo de luz que se puede ver desde la Tierra. Escribe la lógica condicional que usa declaraciones if, else, y elif para alertar a las personas de todo el mundo que deben buscar un asteroide en el cielo. ¡Hay uno que se dirige a la tierra ahora a una velocidad de 19 km/s!"
   ]
  },
  {
   "cell_type": "code",
   "execution_count": 3,
   "metadata": {},
   "outputs": [
    {
     "name": "stdout",
     "output_type": "stream",
     "text": [
      "Fuera de peligro!.\n"
     ]
    }
   ],
   "source": [
    "velocidadLimite = 20\n",
    "velocidadAsteroide = 19\n",
    "\n",
    "if velocidadAsteroide > velocidadLimite:\n",
    "    print(\"Alerta!, atento a rayo de luz en el cielo.\")\n",
    "elif velocidadAsteroide == velocidadLimite:\n",
    "    print(\"Alerta!, atento a rayo de luz en el cielo.\")\n",
    "else:\n",
    "    print(\"Fuera de peligro!.\")"
   ]
  },
  {
   "cell_type": "markdown",
   "metadata": {},
   "source": [
    "# Ejercicio 3\n",
    "*Los asteroides de menos de 25 metros en su dimensión más grande probablemente se quemarán a medida que entren en la atmósfera de la Tierra.\n",
    "\n",
    "    Si una pieza de un asteroide que es más grande que 25 metros pero más pequeña que 1000 metros golpeara la Tierra, causaría mucho daño.\n",
    "\n",
    "También discutimos en el ejercicio anterior que:\n",
    "\n",
    "    La velocidad del asteroide varía en función de lo cerca que esté del sol, y cualquier velocidad superior a 25 kilómetros por segundo (km/s) merece una advertencia.\n",
    "\n",
    "    Si un asteroide entra en la atmósfera de la Tierra a una velocidad mayor o igual a 20 km/s, a veces produce un rayo de luz que se puede ver desde la Tierra."
   ]
  },
  {
   "cell_type": "code",
   "execution_count": 7,
   "metadata": {},
   "outputs": [
    {
     "name": "stdout",
     "output_type": "stream",
     "text": [
      "Alerta!, atento a rayo de luz en el cielo.\n"
     ]
    }
   ],
   "source": [
    "velocidadLimite = 25\n",
    "\n",
    "velocidadAsteroide = 25\n",
    "tamanoAsteroide = 60\n",
    "\n",
    "if velocidadAsteroide > velocidadLimite and tamanoAsteroide > 25 and tamanoAsteroide < 1000:\n",
    "    print(\"Peligro!, se acerca un asteroide muy peligroso a la tierra.\")\n",
    "elif velocidadAsteroide >= velocidadLimite:\n",
    "    print(\"Alerta!, atento a rayo de luz en el cielo.\")\n",
    "elif tamanoAsteroide < 25:\n",
    "    print(\"Fuera de peligro!.\")\n",
    "else:\n",
    "    print(\"Fuera de peligro!.\")"
   ]
  }
 ],
 "metadata": {
  "interpreter": {
   "hash": "9f44b896c619d2af0be56e09167ebd3fc8486da5407bd874c07574ab519d9b78"
  },
  "kernelspec": {
   "display_name": "Python 3.10.2 64-bit",
   "language": "python",
   "name": "python3"
  },
  "language_info": {
   "codemirror_mode": {
    "name": "ipython",
    "version": 3
   },
   "file_extension": ".py",
   "mimetype": "text/x-python",
   "name": "python",
   "nbconvert_exporter": "python",
   "pygments_lexer": "ipython3",
   "version": "3.10.2"
  },
  "orig_nbformat": 4
 },
 "nbformat": 4,
 "nbformat_minor": 2
}
