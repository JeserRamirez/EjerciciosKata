{
 "cells": [
  {
   "cell_type": "markdown",
   "metadata": {},
   "source": [
    "# Ejercicio 1: Trabajar con argumentos en funciones"
   ]
  },
  {
   "cell_type": "code",
   "execution_count": 19,
   "metadata": {},
   "outputs": [
    {
     "name": "stdout",
     "output_type": "stream",
     "text": [
      "Total average: 51.333333333333336%\n",
      "    First tank: 40%\n",
      "    Second tank: 50%\n",
      "    Third tank: 64%\n",
      "Total average: 74.33333333333333%\n",
      "    First tank: 76%\n",
      "    Second tank: 80%\n",
      "    Third tank: 67%\n"
     ]
    }
   ],
   "source": [
    "# Función para leer 3 tanques de combustible y muestre el promedio\n",
    "def fuel_average(first_tank, second_tank, third_tank):\n",
    "    total_average = (first_tank + second_tank + third_tank) / 3\n",
    "    return f\"\"\"Total average: {total_average}%\n",
    "    First tank: {first_tank}%\n",
    "    Second tank: {second_tank}%\n",
    "    Third tank: {third_tank}%\"\"\"\n",
    "\n",
    "# Llamamos a la función que genera el reporte print(funcion(tanque1, tanque2, tanque3))\n",
    "print(fuel_average(40,50,64))\n",
    "\n",
    "# Función promedio \n",
    "def average(values):\n",
    "    total = sum(values)\n",
    "    number_of_items = len(values)\n",
    "    return total / number_of_items\n",
    "\n",
    "average([40,50,64])\n",
    "\n",
    "# Actualiza la función\n",
    "def fuel_average(first_tank, second_tank, third_tank):\n",
    "    return f\"\"\"Total average: {average([first_tank, second_tank, third_tank])}%\n",
    "    First tank: {first_tank}%\n",
    "    Second tank: {second_tank}%\n",
    "    Third tank: {third_tank}%\"\"\"\n",
    "\n",
    "print(fuel_average(76,80,67))"
   ]
  },
  {
   "cell_type": "markdown",
   "metadata": {},
   "source": [
    "# Ejercicio 2: Trabajo con argumentos de palabra clave"
   ]
  },
  {
   "cell_type": "code",
   "execution_count": 20,
   "metadata": {},
   "outputs": [
    {
     "name": "stdout",
     "output_type": "stream",
     "text": [
      "\n",
      "    Mission to Pluto\n",
      "    Total travel time: 52 minutes\n",
      "    Total fuel left: 834374 gallons\n",
      "    \n",
      "\n",
      "    Mission to Mars\n",
      "    Total travel time: 76 minutes\n",
      "    Total fuel left: 360000\n",
      "    \n",
      "\n",
      "    Mission to Mars\n",
      "    Total travel time: 76 minutes\n",
      "    Total fuel left: 360000\n",
      "    main tank --> 210000 gallons left\n",
      "external tank --> 150000 gallons left\n",
      "\n"
     ]
    }
   ],
   "source": [
    "# Función con un informe preciso de la misión. Considera hora de prelanzamiento, tiempo de vuelo, destino, tanque externo y tanque interno\n",
    "def mission_report(pre_launch_time, flight_time, destination, external_tank, main_tank):\n",
    "    return f\"\"\"\n",
    "    Mission to {destination}\n",
    "    Total travel time: {pre_launch_time + flight_time} minutes\n",
    "    Total fuel left: {external_tank + main_tank} gallons\n",
    "    \"\"\"\n",
    "print(mission_report(17, 35, \"Pluto\", 534144, 300230))\n",
    "\n",
    "# Escribe tu nueva función de reporte considerando lo anterior\n",
    "def mission_report(destination, *minutes, **fuel_reservoirs):\n",
    "    return f\"\"\"\n",
    "    Mission to {destination}\n",
    "    Total travel time: {sum(minutes)} minutes\n",
    "    Total fuel left: {sum(fuel_reservoirs.values())}\n",
    "    \"\"\"\n",
    "\n",
    "print(mission_report(\"Mars\", 10, 15, 51, main=210000, external=150000))\n",
    "\n",
    "# Escribe tu nueva función\n",
    "def mission_report(destination, *minutes, **fuel_reservoirs):\n",
    "    main_report = f\"\"\"\n",
    "    Mission to {destination}\n",
    "    Total travel time: {sum(minutes)} minutes\n",
    "    Total fuel left: {sum(fuel_reservoirs.values())}\n",
    "    \"\"\"\n",
    "    for tank_name, gallons in fuel_reservoirs.items():\n",
    "        main_report += f\"{tank_name} tank --> {gallons} gallons left\\n\"\n",
    "    return main_report\n",
    "\n",
    "print(mission_report(\"Mars\", 10, 15, 51, main=210000, external=150000))"
   ]
  }
 ],
 "metadata": {
  "interpreter": {
   "hash": "9f44b896c619d2af0be56e09167ebd3fc8486da5407bd874c07574ab519d9b78"
  },
  "kernelspec": {
   "display_name": "Python 3.10.2 64-bit",
   "language": "python",
   "name": "python3"
  },
  "language_info": {
   "codemirror_mode": {
    "name": "ipython",
    "version": 3
   },
   "file_extension": ".py",
   "mimetype": "text/x-python",
   "name": "python",
   "nbconvert_exporter": "python",
   "pygments_lexer": "ipython3",
   "version": "3.10.2"
  },
  "orig_nbformat": 4
 },
 "nbformat": 4,
 "nbformat_minor": 2
}
